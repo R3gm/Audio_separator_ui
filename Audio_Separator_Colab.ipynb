{
  "cells": [
    {
      "cell_type": "markdown",
      "metadata": {
        "colab_type": "text",
        "id": "view-in-github"
      },
      "source": [
        "<a href=\"https://colab.research.google.com/github/R3gm/Audio_separator_ui/blob/main/Audio_Separator_Colab.ipynb\" target=\"_parent\"><img src=\"https://colab.research.google.com/assets/colab-badge.svg\" alt=\"Open In Colab\"/></a>"
      ]
    },
    {
      "cell_type": "code",
      "execution_count": null,
      "metadata": {
        "cellView": "form",
        "id": "XbteyAzfklwa"
      },
      "outputs": [],
      "source": [
        "# @title Run the `Audio🔹separator` App\n",
        "\n",
        "conf_end = \"/content/Audio_separator_ui/.venv/complete.txt\"\n",
        "def config_complete() -> bool:\n",
        "    import os\n",
        "    return os.path.exists(conf_end)\n",
        "\n",
        "if not config_complete():\n",
        "    print(\"\\033[34mThe installation will take approximately 5 minutes.\\033[0m\")\n",
        "    %cd /content\n",
        "    !git clone https://github.com/R3gm/Audio_separator_ui\n",
        "    %cd Audio_separator_ui\n",
        "    !pip install uv==0.8.13 -q\n",
        "    !uv venv --python 3.10 --clear -q\n",
        "    !curl -sS https://bootstrap.pypa.io/get-pip.py -o get-pip.py\n",
        "    !uv run python get-pip.py pip==23.1.2 -q\n",
        "    !uv run python -m pip install -q -r pre-requirements.txt\n",
        "    !uv run python -m pip install -q torch==2.5.1 torchvision==0.20.1 torchaudio==2.5.1 --index-url https://download.pytorch.org/whl/cu124\n",
        "    !uv run python -m pip install -q -r requirements.txt && touch {conf_end}\n",
        "\n",
        "%cd /content/Audio_separator_ui\n",
        "!uv run python app.py --share --theme NoCrypt/miku"
      ]
    },
    {
      "cell_type": "markdown",
      "metadata": {
        "id": "i18Q7Kf1CU9J"
      },
      "source": [
        "Open the `public URL` when it appears"
      ]
    }
  ],
  "metadata": {
    "accelerator": "GPU",
    "colab": {
      "authorship_tag": "ABX9TyNhZd6FNhKtQGbXlQbsSREk",
      "gpuType": "T4",
      "include_colab_link": true,
      "provenance": []
    },
    "kernelspec": {
      "display_name": "Python 3",
      "name": "python3"
    },
    "language_info": {
      "name": "python"
    }
  },
  "nbformat": 4,
  "nbformat_minor": 0
}
