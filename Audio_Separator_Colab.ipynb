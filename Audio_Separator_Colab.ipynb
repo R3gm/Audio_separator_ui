{
  "nbformat": 4,
  "nbformat_minor": 0,
  "metadata": {
    "colab": {
      "provenance": [],
      "gpuType": "T4",
      "authorship_tag": "ABX9TyNhZd6FNhKtQGbXlQbsSREk",
      "include_colab_link": true
    },
    "kernelspec": {
      "name": "python3",
      "display_name": "Python 3"
    },
    "language_info": {
      "name": "python"
    },
    "accelerator": "GPU"
  },
  "cells": [
    {
      "cell_type": "markdown",
      "metadata": {
        "id": "view-in-github",
        "colab_type": "text"
      },
      "source": [
        "<a href=\"https://colab.research.google.com/github/R3gm/Audio_separator_ui/blob/main/Audio_Separator_Colab.ipynb\" target=\"_parent\"><img src=\"https://colab.research.google.com/assets/colab-badge.svg\" alt=\"Open In Colab\"/></a>"
      ]
    },
    {
      "cell_type": "code",
      "source": [
        "# @title Run the Audio Separator App\n",
        "\n",
        "conf_end = \"/content/Audio_separator/.venv/complete.txt\"\n",
        "def config_complete() -> bool:\n",
        "    import os\n",
        "    return os.path.exists(conf_end)\n",
        "\n",
        "if not config_complete():\n",
        "    print(\"\\033[34mThe installation will take approximately 5 minutes.\\033[0m\")\n",
        "    %cd /content\n",
        "    !git clone https://huggingface.co/spaces/r3gm/Audio_separator\n",
        "    %cd Audio_separator\n",
        "    !pip install uv==0.8.13 -q\n",
        "    !uv venv --python 3.10 --clear -q\n",
        "    !curl -sS https://bootstrap.pypa.io/get-pip.py -o get-pip.py\n",
        "    !uv run python get-pip.py pip==23.1.2 -q\n",
        "    !uv run python -m pip install -q -r pre-requirements.txt\n",
        "    !uv run python -m pip install -q torch==2.5.1 torchvision==0.20.1 torchaudio==2.5.1 --index-url https://download.pytorch.org/whl/cu124\n",
        "    !uv run python -m pip install -q -r requirements.txt && touch {conf_end}\n",
        "\n",
        "%cd /content/Audio_separator\n",
        "!uv run python app.py --share"
      ],
      "metadata": {
        "id": "XbteyAzfklwa",
        "cellView": "form"
      },
      "execution_count": null,
      "outputs": []
    },
    {
      "cell_type": "markdown",
      "source": [
        "Open the `public URL` when it appears"
      ],
      "metadata": {
        "id": "i18Q7Kf1CU9J"
      }
    }
  ]
}